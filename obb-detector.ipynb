{
 "cells": [
  {
   "attachments": {},
   "cell_type": "markdown",
   "metadata": {},
   "source": [
    "# Oriented Bounding Box Detector"
   ]
  },
  {
   "attachments": {},
   "cell_type": "markdown",
   "metadata": {},
   "source": [
    "We aim to train a generic OBB object detector using the ProbIoU loss. We will use the HRSC2016 dataset for this purpose, later on applying our own glaucoma images to the network. The OBB detector will follow the [YOLO V5 Architecture](https://github.com/hukaixuan19970627/yolov5_obb/blob/master/docs/install.md?ref=blog.roboflow.com)"
   ]
  },
  {
   "attachments": {},
   "cell_type": "markdown",
   "metadata": {},
   "source": [
    "To learn more about it, first we will follow [this tutorial](https://blog.roboflow.com/yolov5-for-oriented-object-detection/#:~:text=Oriented%20bounding%20boxes%20are%20bounding%20boxes%20rotated%20to,pills%20or%20other%20objects%20in%20one%20bounding%20box.)"
   ]
  },
  {
   "attachments": {},
   "cell_type": "markdown",
   "metadata": {},
   "source": []
  }
 ],
 "metadata": {
  "language_info": {
   "name": "python"
  },
  "orig_nbformat": 4
 },
 "nbformat": 4,
 "nbformat_minor": 2
}
